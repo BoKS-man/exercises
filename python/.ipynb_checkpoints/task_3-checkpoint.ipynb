{
 "cells": [
  {
   "cell_type": "code",
   "execution_count": 5,
   "metadata": {
    "collapsed": true
   },
   "outputs": [],
   "source": [
    "def create_matrix(m_side):\n",
    "    m = []\n",
    "    a = []\n",
    "    j = 0\n",
    "    for i in range(1, m_side*m_side+1):\n",
    "        j+=1\n",
    "        a.append(i)\n",
    "        if j == m_side:\n",
    "            j = 0\n",
    "            m.append(a)\n",
    "            a = []\n",
    "    return m"
   ]
  },
  {
   "cell_type": "code",
   "execution_count": 6,
   "metadata": {
    "collapsed": true
   },
   "outputs": [],
   "source": [
    "def draw_matrix(matrix):\n",
    "    for i in range(0,len(m)):\n",
    "        s = '|'\n",
    "        r = '+'\n",
    "        for j in m[i]:\n",
    "            if len(str(j)) < 3:\n",
    "                j = ' ' + str(j)\n",
    "                if len(j) < 3:\n",
    "                    j = j + ' '\n",
    "            else:\n",
    "                j = str(j)\n",
    "            s += (j + '|')\n",
    "            r += '---+'\n",
    "        if i == 0:\n",
    "            print(r)\n",
    "        print(s)\n",
    "        print(r)"
   ]
  },
  {
   "cell_type": "code",
   "execution_count": 7,
   "metadata": {
    "collapsed": true
   },
   "outputs": [],
   "source": [
    "def get_snake_path(matrix):\n",
    "    m_center = round((len(matrix) - 1) / 2)\n",
    "    m_count = len(matrix) * len(matrix[0])\n",
    "    a = []\n",
    "    x = m_center\n",
    "    y = m_center\n",
    "    side_size = 0\n",
    "    for i in range(0, m_count):\n",
    "        a.append([x, y])\n",
    "        if x < y:\n",
    "            if abs(m_center - x) < side_size:\n",
    "                x -= 1\n",
    "            else:\n",
    "                y -= 1\n",
    "        elif x == y:\n",
    "            if x > m_center:\n",
    "                x -= 1\n",
    "            else:\n",
    "                side_size += 1\n",
    "                x += 1\n",
    "        elif x > y:\n",
    "            if abs(m_center - x) < side_size:\n",
    "                x += 1\n",
    "            else:\n",
    "                y += 1\n",
    "    return a"
   ]
  },
  {
   "cell_type": "code",
   "execution_count": 8,
   "metadata": {
    "scrolled": true
   },
   "outputs": [
    {
     "name": "stdout",
     "output_type": "stream",
     "text": [
      "+---+---+---+---+---+---+---+\n",
      "| 1 | 2 | 3 | 4 | 5 | 6 | 7 |\n",
      "+---+---+---+---+---+---+---+\n",
      "| 8 | 9 | 10| 11| 12| 13| 14|\n",
      "+---+---+---+---+---+---+---+\n",
      "| 15| 16| 17| 18| 19| 20| 21|\n",
      "+---+---+---+---+---+---+---+\n",
      "| 22| 23| 24| 25| 26| 27| 28|\n",
      "+---+---+---+---+---+---+---+\n",
      "| 29| 30| 31| 32| 33| 34| 35|\n",
      "+---+---+---+---+---+---+---+\n",
      "| 36| 37| 38| 39| 40| 41| 42|\n",
      "+---+---+---+---+---+---+---+\n",
      "| 43| 44| 45| 46| 47| 48| 49|\n",
      "+---+---+---+---+---+---+---+\n"
     ]
    }
   ],
   "source": [
    "m = create_matrix(7)\n",
    "draw_matrix(m)"
   ]
  },
  {
   "cell_type": "code",
   "execution_count": 9,
   "metadata": {
    "scrolled": true
   },
   "outputs": [
    {
     "data": {
      "text/plain": [
       "[[3, 3],\n",
       " [4, 3],\n",
       " [4, 4],\n",
       " [3, 4],\n",
       " [2, 4],\n",
       " [2, 3],\n",
       " [2, 2],\n",
       " [3, 2],\n",
       " [4, 2],\n",
       " [5, 2],\n",
       " [5, 3],\n",
       " [5, 4],\n",
       " [5, 5],\n",
       " [4, 5],\n",
       " [3, 5],\n",
       " [2, 5],\n",
       " [1, 5],\n",
       " [1, 4],\n",
       " [1, 3],\n",
       " [1, 2],\n",
       " [1, 1],\n",
       " [2, 1],\n",
       " [3, 1],\n",
       " [4, 1],\n",
       " [5, 1],\n",
       " [6, 1],\n",
       " [6, 2],\n",
       " [6, 3],\n",
       " [6, 4],\n",
       " [6, 5],\n",
       " [6, 6],\n",
       " [5, 6],\n",
       " [4, 6],\n",
       " [3, 6],\n",
       " [2, 6],\n",
       " [1, 6],\n",
       " [0, 6],\n",
       " [0, 5],\n",
       " [0, 4],\n",
       " [0, 3],\n",
       " [0, 2],\n",
       " [0, 1],\n",
       " [0, 0],\n",
       " [1, 0],\n",
       " [2, 0],\n",
       " [3, 0],\n",
       " [4, 0],\n",
       " [5, 0],\n",
       " [6, 0]]"
      ]
     },
     "execution_count": 9,
     "metadata": {},
     "output_type": "execute_result"
    }
   ],
   "source": [
    "get_snake_path(m)"
   ]
  },
  {
   "cell_type": "code",
   "execution_count": null,
   "metadata": {
    "collapsed": true
   },
   "outputs": [],
   "source": []
  },
  {
   "cell_type": "code",
   "execution_count": null,
   "metadata": {
    "collapsed": true
   },
   "outputs": [],
   "source": []
  },
  {
   "cell_type": "code",
   "execution_count": null,
   "metadata": {
    "collapsed": true
   },
   "outputs": [],
   "source": []
  }
 ],
 "metadata": {
  "kernelspec": {
   "display_name": "Python 3",
   "language": "python",
   "name": "python3"
  },
  "language_info": {
   "codemirror_mode": {
    "name": "ipython",
    "version": 3
   },
   "file_extension": ".py",
   "mimetype": "text/x-python",
   "name": "python",
   "nbconvert_exporter": "python",
   "pygments_lexer": "ipython3",
   "version": "3.6.1"
  }
 },
 "nbformat": 4,
 "nbformat_minor": 2
}
